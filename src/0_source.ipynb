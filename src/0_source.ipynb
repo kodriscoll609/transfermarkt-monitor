{
 "cells": [
  {
   "cell_type": "code",
   "execution_count": 1,
   "id": "90254a29",
   "metadata": {},
   "outputs": [],
   "source": [
    "from library import table, append_table, historize, get_teams, get_competitions\n",
    "import pandas as pd"
   ]
  },
  {
   "cell_type": "markdown",
   "id": "4527189a",
   "metadata": {},
   "source": [
    "### Leagues"
   ]
  },
  {
   "cell_type": "code",
   "execution_count": 2,
   "id": "c3083068",
   "metadata": {},
   "outputs": [
    {
     "name": "stdout",
     "output_type": "stream",
     "text": [
      "No league updates today!\n"
     ]
    }
   ],
   "source": [
    "leagues_history = table(\"league\")\n",
    "\n",
    "league_data = get_competitions()\n",
    "leagues =  pd.DataFrame(league_data, columns =  ['name', 'link'])\n",
    "leagues = pd.merge(leagues.assign(joined =  1), leagues_history, on =  ['name', 'link'], how = 'outer')\n",
    "leagues = leagues[leagues.joined != 1]\n",
    "\n",
    "if len(leagues > 0):\n",
    "    print(f\"Committing {len(leagues)} records\")\n",
    "    leagues = leagues.drop(\"joined\", axis = 1)\n",
    "    append_table(leagues, league)\n",
    "else:\n",
    "    print(\"League data up-to-date\")"
   ]
  },
  {
   "cell_type": "markdown",
   "id": "d9e2b902",
   "metadata": {},
   "source": [
    "### Clubs"
   ]
  },
  {
   "cell_type": "code",
   "execution_count": 3,
   "id": "ff96a877",
   "metadata": {},
   "outputs": [],
   "source": [
    "leagues = table(\"league\")\n",
    "league_urls = leagues.link.unique()"
   ]
  },
  {
   "cell_type": "code",
   "execution_count": null,
   "id": "a2bd483f",
   "metadata": {},
   "outputs": [
    {
     "name": "stdout",
     "output_type": "stream",
     "text": [
      "https://www.transfermarkt.com/premier-league/startseite/wettbewerb/GB1\n",
      "https://www.transfermarkt.com/laliga/startseite/wettbewerb/ES1\n",
      "https://www.transfermarkt.com/bundesliga/startseite/wettbewerb/L1\n",
      "https://www.transfermarkt.com/serie-a/startseite/wettbewerb/IT1\n",
      "https://www.transfermarkt.com/ligue-1/startseite/wettbewerb/FR1\n",
      "https://www.transfermarkt.com/liga-portugal/startseite/wettbewerb/PO1\n",
      "https://www.transfermarkt.com/eredivisie/startseite/wettbewerb/NL1\n",
      "https://www.transfermarkt.com/jupiler-pro-league/startseite/wettbewerb/BE1\n",
      "https://www.transfermarkt.com/super-liga-srbije/startseite/wettbewerb/SER1\n",
      "https://www.transfermarkt.com/super-league-1/startseite/wettbewerb/GR1\n",
      "https://www.transfermarkt.com/allsvenskan/startseite/wettbewerb/SE1\n"
     ]
    }
   ],
   "source": [
    "teams_df = pd.DataFrame()\n",
    "\n",
    "#Scrape club data\n",
    "for url in league_urls:\n",
    "    teams_df = pd.concat([teams_df, get_teams(url)])\n",
    "\n",
    "#Prepare df\n",
    "teams_df = teams_df.dropna(subset = 'Club.1')\n",
    "selection = ['Club.1', 'link']\n",
    "teams_df = teams_df[selection].drop_duplicates().rename({\"Club.1\" : \"club\"}, axis = 1)\n",
    "\n",
    "#Add hash keys and effective dates\n",
    "teams_df = historize(teams_df)\n",
    "\n",
    "#Filter only new data\n",
    "current_clubs = table(\"club\")\n",
    "updates = teams_df[~teams_df.hash_key.isin(current_clubs.hash_key.unique())]\n",
    "\n",
    "#Commit changes\n",
    "if len(updates) > 0:\n",
    "    print(f\"Adding {len(updates)} new club records\")\n",
    "    append_table(updates ,'club')\n",
    "else:\n",
    "    print(\"Club data up-to-date\")"
   ]
  }
 ],
 "metadata": {
  "kernelspec": {
   "display_name": "Python 3 (ipykernel)",
   "language": "python",
   "name": "python3"
  },
  "language_info": {
   "codemirror_mode": {
    "name": "ipython",
    "version": 3
   },
   "file_extension": ".py",
   "mimetype": "text/x-python",
   "name": "python",
   "nbconvert_exporter": "python",
   "pygments_lexer": "ipython3",
   "version": "3.10.4"
  }
 },
 "nbformat": 4,
 "nbformat_minor": 5
}
