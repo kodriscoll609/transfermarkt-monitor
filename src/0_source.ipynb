{
 "cells": [
  {
   "cell_type": "code",
   "execution_count": 13,
   "id": "90254a29",
   "metadata": {},
   "outputs": [],
   "source": [
    "from library import table, append_table, historize, get_clubs, get_competitions, load_keys, headers, Historize\n",
    "import sqlite3\n",
    "from datetime import datetime, timedelta\n",
    "import pandas as pd\n",
    "import requests\n",
    "from bs4 import BeautifulSoup\n",
    "import hashlib"
   ]
  },
  {
   "cell_type": "markdown",
   "id": "4527189a",
   "metadata": {},
   "source": [
    "### Leagues"
   ]
  },
  {
   "cell_type": "code",
   "execution_count": 14,
   "id": "c3083068",
   "metadata": {},
   "outputs": [
    {
     "name": "stdout",
     "output_type": "stream",
     "text": [
      "League table up-to-date\n"
     ]
    }
   ],
   "source": [
    "leagues_history = table(\"league\")\n",
    "\n",
    "league_data = get_competitions()\n",
    "leagues =  pd.DataFrame(league_data, columns =  ['name', 'link'])\n",
    "leagues = pd.merge(leagues.assign(joined =  1), leagues_history, on =  ['name', 'link'], how = 'outer')\n",
    "leagues = leagues[leagues.joined != 1]\n",
    "\n",
    "if len(leagues > 0):\n",
    "    print(f\"Committing {len(leagues)} records\")\n",
    "    leagues = leagues.drop(\"joined\", axis = 1)\n",
    "    append_table(leagues, league)\n",
    "else:\n",
    "    print(\"League table up-to-date\")"
   ]
  },
  {
   "cell_type": "markdown",
   "id": "d9e2b902",
   "metadata": {},
   "source": [
    "### Clubs"
   ]
  },
  {
   "cell_type": "code",
   "execution_count": 15,
   "id": "a2bd483f",
   "metadata": {
    "scrolled": false
   },
   "outputs": [
    {
     "name": "stdout",
     "output_type": "stream",
     "text": [
      "Request failed with status code 500 (https://www.transfermarkt.com/persian-gulf-pro-league/startseite/wettbewerb/IRN1)\n",
      "Club table up-to-date\n"
     ]
    }
   ],
   "source": [
    "leagues = table(\"league\")\n",
    "league_urls = leagues.link.unique()\n",
    "\n",
    "club_df = pd.DataFrame()\n",
    "\n",
    "# Scrape clubs\n",
    "for url in league_urls:\n",
    "    club_df = pd.concat([club_df, get_clubs(url)])\n",
    "\n",
    "# deduplicate, clean columns\n",
    "club_df = club_df.dropna(subset = 'Club.1')\n",
    "selection = ['Club.1', 'link']\n",
    "club_df = club_df[selection].drop_duplicates().rename({\"Club.1\" : \"club\"}, axis = 1)\n",
    "\n",
    "# Add hash keys and effective dates\n",
    "club_df = historize(club_df)\n",
    "\n",
    "# Filter only new data\n",
    "current_clubs = table(\"club\")\n",
    "updates = club_df[~club_df.hash_key.isin(current_clubs.hash_key.unique())]\n",
    "\n",
    "#Commit changes\n",
    "if len(updates) > 0:\n",
    "    print(f\"Adding {len(updates)} new club records\")\n",
    "    append_table(updates ,'club')\n",
    "else:\n",
    "    print(\"Club table up-to-date\")"
   ]
  },
  {
   "cell_type": "markdown",
   "id": "133cdd3b",
   "metadata": {},
   "source": [
    "### Club Links"
   ]
  },
  {
   "cell_type": "code",
   "execution_count": 94,
   "id": "82b641e3",
   "metadata": {
    "scrolled": false
   },
   "outputs": [
    {
     "name": "stdout",
     "output_type": "stream",
     "text": [
      "0% complete\n",
      "https://www.transfermarkt.com/premier-league/startseite/wettbewerb/GB1\n",
      "https://www.transfermarkt.com/laliga/startseite/wettbewerb/ES1\n",
      "https://www.transfermarkt.com/bundesliga/startseite/wettbewerb/L1\n",
      "https://www.transfermarkt.com/serie-a/startseite/wettbewerb/IT1\n",
      "https://www.transfermarkt.com/ligue-1/startseite/wettbewerb/FR1\n",
      "21% complete\n",
      "https://www.transfermarkt.com/liga-portugal/startseite/wettbewerb/PO1\n",
      "https://www.transfermarkt.com/eredivisie/startseite/wettbewerb/NL1\n",
      "https://www.transfermarkt.com/jupiler-pro-league/startseite/wettbewerb/BE1\n",
      "https://www.transfermarkt.com/super-liga-srbije/startseite/wettbewerb/SER1\n",
      "https://www.transfermarkt.com/super-league-1/startseite/wettbewerb/GR1\n",
      "42% complete\n",
      "https://www.transfermarkt.com/allsvenskan/startseite/wettbewerb/SE1\n",
      "https://www.transfermarkt.com/supersport-hnl/startseite/wettbewerb/KR1\n",
      "https://www.transfermarkt.com/major-league-soccer/startseite/wettbewerb/MLS1\n",
      "https://www.transfermarkt.com/campeonato-brasileiro-serie-a/startseite/wettbewerb/BRA1\n",
      "https://www.transfermarkt.com/torneo-apertura/startseite/wettbewerb/ARG1\n",
      "62% complete\n",
      "https://www.transfermarkt.com/liga-mx-apertura/startseite/wettbewerb/MEXA\n",
      "https://www.transfermarkt.com/persian-gulf-pro-league/startseite/wettbewerb/IRN1\n",
      "https://www.transfermarkt.com/qatar-stars-league/startseite/wettbewerb/QSL\n",
      "https://www.transfermarkt.com/liga-1-indonesia/startseite/wettbewerb/IN1L\n",
      "https://www.transfermarkt.com/j1-league/startseite/wettbewerb/JAP1\n",
      "83% complete\n",
      "https://www.transfermarkt.com/egyptian-premier-league/startseite/wettbewerb/EGY1\n",
      "https://www.transfermarkt.com/betway-premiership/startseite/wettbewerb/SFA1\n",
      "https://www.transfermarkt.com/botola-pro-inwi/startseite/wettbewerb/MAR1\n",
      "https://www.transfermarkt.com/ligue-professionnelle-1/startseite/wettbewerb/TUN1\n"
     ]
    }
   ],
   "source": [
    "clubs = load_keys('club', ['club', 'link']) \n",
    "\n",
    "league_urls = clubs.link.unique()\n",
    "\n",
    "club_links = []\n",
    "\n",
    "for idx, league_url in enumerate(league_urls):\n",
    "    if idx // 7 == idx / 7:\n",
    "        print(f\"{round(100*idx/len(league_urls))}% links retrieved\\n\")\n",
    "        \n",
    "    response = requests.get(league_url, headers=headers)\n",
    "    soup = BeautifulSoup(response.content, \"html.parser\")\n",
    "\n",
    "    # Find the table containing the teams\n",
    "    temp = soup.select('table.items tbody tr')\n",
    "    for row in soup.select('table.items tbody tr'):\n",
    "        link_tag = row.select_one('td.hauptlink a')\n",
    "        if link_tag:\n",
    "            club_name = link_tag.text.strip()\n",
    "            relative_link = link_tag['href']\n",
    "            #filter out top scorer links\n",
    "            if r\"profil/spieler\" not in relative_link:\n",
    "                full_link = \"https://www.transfermarkt.com\" + relative_link\n",
    "                club_links.append((league_url, club_name, full_link))\n",
    "            "
   ]
  },
  {
   "cell_type": "code",
   "execution_count": 95,
   "id": "71adc164",
   "metadata": {},
   "outputs": [],
   "source": [
    "# deduplicate / filter links\n",
    "club_links_df = pd.DataFrame(club_links, columns = ['league_link', 'club', 'club_link'])\n",
    "club_links_df = club_links_df[club_links_df.club_link.str.contains(\"start\")] "
   ]
  },
  {
   "cell_type": "code",
   "execution_count": 96,
   "id": "a4b48af5",
   "metadata": {},
   "outputs": [
    {
     "name": "stdout",
     "output_type": "stream",
     "text": [
      "Are you sure you want to overwrite this table? This will overwrite the existing data permanently (y/n)\n",
      "y\n"
     ]
    }
   ],
   "source": [
    "historizer = Historize(\n",
    "    club_links_df,\n",
    "    primary_key = ['league_link', 'club']\n",
    ")\n",
    "historizer.run()\n",
    "updates = historizer.df\n",
    "updates = updates.rename({\"ID\": \"club_link_id\"}, axis = 1)"
   ]
  },
  {
   "cell_type": "code",
   "execution_count": 93,
   "id": "03e146b2",
   "metadata": {},
   "outputs": [
    {
     "name": "stdout",
     "output_type": "stream",
     "text": [
      "0 records being updated - effective_end_date == 2025-04-29\n",
      "\n",
      "Appending rows\n",
      "\n",
      "Done!\n"
     ]
    }
   ],
   "source": [
    "def commitChanges(df, table_name, primary_key, db_path = \"transfermarkt.db\"):\n",
    "    \n",
    "    yesterday = str((datetime.today() - timedelta(days=1)).date())\n",
    "\n",
    "    conn = sqlite3.connect(db_path)\n",
    "    cursor = conn.cursor()\n",
    "    \n",
    "    cursor.execute(f\"SELECT DISTINCT hash_key FROM {table_name}\")\n",
    "    existing_keys = [row[0] for row in cursor.fetchall()]\n",
    "    \n",
    "    update_df = df[~df.hash_key.isin(existing_keys)]\n",
    "    update_keys = update_df[primary_key].unique()\n",
    "    conn.close()\n",
    "    \n",
    "    print(f\"{len(update_keys)} records being updated - effective_end_date == {yesterday}\\n\")\n",
    "    for key in update_keys:\n",
    "        \n",
    "        effective_date_update_query = f\"\"\"UPDATE {table_name}\n",
    "        SET effective_end_date = '{yesterday}'\n",
    "        WHERE {primary_key} = '{key}'\n",
    "        \"\"\"\n",
    "        conn = sqlite3.connect('transfermarkt.db')\n",
    "        cursor = conn.cursor()\n",
    "        cursor.execute(effective_date_update_query)\n",
    "        conn.commit()\n",
    "\n",
    "        \n",
    "        conn.close()\n",
    "    \n",
    "    #append rows\n",
    "    print(\"Appending rows\\n\")\n",
    "    conn = sqlite3.connect(db_path)\n",
    "    update_df.to_sql(table_name, conn, if_exists=\"append\", index=False)\n",
    "    conn.close()\n",
    "    \n",
    "    print(\"Done!\")\n",
    "\n",
    "commitChanges(\n",
    "    df = updates, \n",
    "    table_name = 'club_link', \n",
    "    primary_key='club_link_id'\n",
    ")"
   ]
  },
  {
   "cell_type": "markdown",
   "id": "eac7417f",
   "metadata": {},
   "source": [
    "### Harmonization code"
   ]
  },
  {
   "cell_type": "code",
   "execution_count": null,
   "id": "28a4d26e",
   "metadata": {},
   "outputs": [],
   "source": [
    "# def createDetailedURL(url):\n",
    "#     return url.replace('startseite', 'kader') + r\"/plus/1\"\n",
    "\n",
    "# club_links_df[\"club_link_detailed\"] = club_links_df['club_link'].apply(lambda x: createDetailedURL(x))"
   ]
  }
 ],
 "metadata": {
  "kernelspec": {
   "display_name": "Python 3 (ipykernel)",
   "language": "python",
   "name": "python3"
  },
  "language_info": {
   "codemirror_mode": {
    "name": "ipython",
    "version": 3
   },
   "file_extension": ".py",
   "mimetype": "text/x-python",
   "name": "python",
   "nbconvert_exporter": "python",
   "pygments_lexer": "ipython3",
   "version": "3.10.4"
  }
 },
 "nbformat": 4,
 "nbformat_minor": 5
}
