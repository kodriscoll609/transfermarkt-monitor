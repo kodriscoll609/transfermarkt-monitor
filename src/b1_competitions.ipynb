{
 "cells": [
  {
   "cell_type": "code",
   "execution_count": 1,
   "id": "90254a29",
   "metadata": {},
   "outputs": [],
   "source": [
    "import library\n",
    "import pandas as pd"
   ]
  },
  {
   "cell_type": "code",
   "execution_count": 6,
   "id": "e74c1932",
   "metadata": {},
   "outputs": [],
   "source": [
    "history = library.table(\"league\")\n",
    "\n",
    "league_data = library.get_competitions()\n",
    "leagues =  pd.DataFrame(league_data, columns =  ['name', 'link'])\n",
    "leagues = pd.merge(leagues.assign(joined =  1), history, on =  ['name', 'link'], how = 'outer')\n",
    "leagues = leagues[leagues.joined != 1]"
   ]
  },
  {
   "cell_type": "code",
   "execution_count": 4,
   "id": "6b136e82",
   "metadata": {},
   "outputs": [],
   "source": [
    "if len(leagues > 0):\n",
    "    library.append_table(leagues, league)"
   ]
  }
 ],
 "metadata": {
  "kernelspec": {
   "display_name": "Python 3 (ipykernel)",
   "language": "python",
   "name": "python3"
  },
  "language_info": {
   "codemirror_mode": {
    "name": "ipython",
    "version": 3
   },
   "file_extension": ".py",
   "mimetype": "text/x-python",
   "name": "python",
   "nbconvert_exporter": "python",
   "pygments_lexer": "ipython3",
   "version": "3.10.4"
  }
 },
 "nbformat": 4,
 "nbformat_minor": 5
}
