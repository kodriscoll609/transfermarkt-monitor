{
 "cells": [
  {
   "cell_type": "code",
   "execution_count": 1,
   "id": "90254a29",
   "metadata": {},
   "outputs": [],
   "source": [
    "from utilities import fetch_competitions, request_headers, Historize, commit_changes, createDetailedURL, polite_request\n",
    "from sql_shortcuts import table, append_table, load_keys, drop_table, tables, replace_table\n",
    "from datetime import datetime, timedelta\n",
    "from bs4 import BeautifulSoup\n",
    "from io import StringIO\n",
    "import pandas as pd\n",
    "import sqlite3\n",
    "import hashlib\n",
    "import requests\n",
    "import time\n",
    "import random\n",
    "import logging"
   ]
  },
  {
   "cell_type": "markdown",
   "id": "4527189a",
   "metadata": {},
   "source": [
    "### Leagues"
   ]
  },
  {
   "cell_type": "code",
   "execution_count": 2,
   "id": "c3083068",
   "metadata": {
    "scrolled": false
   },
   "outputs": [
    {
     "name": "stderr",
     "output_type": "stream",
     "text": [
      "2025-06-01 19:45:32,281 - INFO - FETCHING LEAGUES\n",
      "2025-06-01 19:45:37,495 - INFO - League table up-to-date\n"
     ]
    }
   ],
   "source": [
    "# Load retrieved league data\n",
    "logging.info(\"FETCHING LEAGUES\")\n",
    "leagues_history = table(\"b1_league\")\n",
    "\n",
    "# Scrape new league data\n",
    "league_data = fetch_competitions()\n",
    "leagues =  pd.DataFrame(league_data, columns =  ['name', 'league_link'])\n",
    "leagues = pd.merge(leagues.assign(joined =  1), leagues_history, on =  ['name', 'league_link'], how = 'outer')\n",
    "leagues = leagues[leagues.joined != 1]\n",
    "\n",
    "#Update b1_league\n",
    "if len(leagues > 0):\n",
    "    logging.info(f\"Committing {len(leagues)} league records\")\n",
    "    leagues = leagues.drop(\"joined\", axis = 1)\n",
    "    append_table(leagues, league)\n",
    "else:\n",
    "    logging.info(\"League table up-to-date\")"
   ]
  },
  {
   "cell_type": "markdown",
   "id": "d9e2b902",
   "metadata": {},
   "source": [
    "### Clubs"
   ]
  },
  {
   "cell_type": "code",
   "execution_count": null,
   "id": "a2bd483f",
   "metadata": {
    "scrolled": false
   },
   "outputs": [
    {
     "name": "stderr",
     "output_type": "stream",
     "text": [
      "2025-06-01 19:45:37,534 - INFO - FETCHING CLUBS\n",
      "2025-06-01 19:45:46,253 - INFO - Successfully retrieved https://www.transfermarkt.com/premier-league/startseite/wettbewerb/GB1\n",
      "2025-06-01 19:45:51,072 - INFO - Successfully retrieved https://www.transfermarkt.com/laliga/startseite/wettbewerb/ES1\n",
      "2025-06-01 19:46:00,090 - INFO - Successfully retrieved https://www.transfermarkt.com/bundesliga/startseite/wettbewerb/L1\n",
      "2025-06-01 19:46:09,364 - INFO - Successfully retrieved https://www.transfermarkt.com/serie-a/startseite/wettbewerb/IT1\n",
      "2025-06-01 19:46:16,615 - INFO - Successfully retrieved https://www.transfermarkt.com/ligue-1/startseite/wettbewerb/FR1\n",
      "2025-06-01 19:46:21,534 - INFO - Successfully retrieved https://www.transfermarkt.com/liga-portugal/startseite/wettbewerb/PO1\n",
      "2025-06-01 19:46:27,190 - INFO - Successfully retrieved https://www.transfermarkt.com/eredivisie/startseite/wettbewerb/NL1\n",
      "2025-06-01 19:46:33,191 - INFO - Successfully retrieved https://www.transfermarkt.com/jupiler-pro-league/startseite/wettbewerb/BE1\n",
      "2025-06-01 19:46:40,478 - INFO - Successfully retrieved https://www.transfermarkt.com/super-liga-srbije/startseite/wettbewerb/SER1\n",
      "2025-06-01 19:46:48,699 - INFO - Successfully retrieved https://www.transfermarkt.com/super-league-1/startseite/wettbewerb/GR1\n",
      "2025-06-01 19:46:53,811 - INFO - Successfully retrieved https://www.transfermarkt.com/allsvenskan/startseite/wettbewerb/SE1\n",
      "2025-06-01 19:46:59,358 - INFO - Successfully retrieved https://www.transfermarkt.com/supersport-hnl/startseite/wettbewerb/KR1\n",
      "2025-06-01 19:47:05,611 - INFO - Successfully retrieved https://www.transfermarkt.com/major-league-soccer/startseite/wettbewerb/MLS1\n",
      "2025-06-01 19:47:35,112 - INFO - Successfully retrieved https://www.transfermarkt.com/campeonato-brasileiro-serie-a/startseite/wettbewerb/BRA1 on attempt 2\n",
      "2025-06-01 19:49:14,091 - ERROR - Failed to fetch https://www.transfermarkt.com/torneo-apertura/startseite/wettbewerb/ARG1 on 4 retries. Status code: 503\n",
      "2025-06-01 19:49:19,936 - INFO - Successfully retrieved https://www.transfermarkt.com/liga-mx-apertura/startseite/wettbewerb/MEXA\n",
      "2025-06-01 19:49:27,132 - INFO - Successfully retrieved https://www.transfermarkt.com/persian-gulf-pro-league/startseite/wettbewerb/IRN1\n",
      "2025-06-01 19:49:34,085 - INFO - Successfully retrieved https://www.transfermarkt.com/qatar-stars-league/startseite/wettbewerb/QSL\n",
      "2025-06-01 19:50:24,137 - INFO - Successfully retrieved https://www.transfermarkt.com/liga-1-indonesia/startseite/wettbewerb/IN1L on attempt 3\n",
      "2025-06-01 19:51:13,703 - INFO - Successfully retrieved https://www.transfermarkt.com/j1-league/startseite/wettbewerb/JAP1 on attempt 3\n",
      "2025-06-01 19:51:22,099 - INFO - Successfully retrieved https://www.transfermarkt.com/egyptian-premier-league/startseite/wettbewerb/EGY1\n",
      "2025-06-01 19:52:52,626 - INFO - Successfully retrieved https://www.transfermarkt.com/betway-premiership/startseite/wettbewerb/SFA1 on attempt 4\n",
      "2025-06-01 19:52:59,202 - INFO - Successfully retrieved https://www.transfermarkt.com/botola-pro-inwi/startseite/wettbewerb/MAR1\n"
     ]
    }
   ],
   "source": [
    "logging.info(\"FETCHING CLUBS\")\n",
    "\n",
    "leagues = table(\"b1_league\")\n",
    "league_urls = list(leagues.league_link.unique())\n",
    "club_df = pd.DataFrame()\n",
    "b2_failures = []\n",
    "\n",
    "\n",
    "#Scrape clubs\n",
    "for url in league_urls:\n",
    "\n",
    "    response = polite_request(url)\n",
    "    if not isinstance(response, str):\n",
    "        data = pd.read_html(StringIO(response.text))\n",
    "        df = [i for i in data if 'total market value' in str(i).lower()][0]\n",
    "        df[\"league_link\"] = url\n",
    "        club_df = pd.concat([club_df, df])\n",
    "    else:\n",
    "        b2_failures.append(url)\n",
    "\n",
    "# deduplicate, clean columns\n",
    "club_df = club_df.reset_index(drop = True)\n",
    "club_df = club_df.dropna(subset = 'Club.1')\n",
    "selection = ['Club.1', 'league_link']\n",
    "club_df = club_df[selection].drop_duplicates().rename({\"Club.1\" : \"club\"}, axis = 1)\n",
    "\n",
    "if len(b2_failures)>0:\n",
    "    logging.error(f\"b2_club failures: {b2_failures}\")"
   ]
  },
  {
   "cell_type": "code",
   "execution_count": null,
   "id": "eac75436",
   "metadata": {},
   "outputs": [],
   "source": [
    "processor = Historize(\n",
    "    club_df,\n",
    "    primary_key = ['league_link', 'club']\n",
    ")\n",
    "\n",
    "processor.run()\n",
    "\n",
    "club_updates = processor.df\n",
    "\n",
    "club_updates['last_updated'] = datetime.today()\n",
    "club_updates = club_updates.rename({\"ID\": \"club_id\"}, axis = 1)\n",
    "selection = [\"club_id\", 'club', 'league_link', 'hash_key', 'effective_start_date', 'effective_end_date', 'last_updated']\n",
    "club_updates = club_updates[selection] \n",
    "\n",
    "commit_changes(\n",
    "    df = club_updates, \n",
    "    table_name = 'b2_club', \n",
    "    primary_key= 'club_id'\n",
    ")"
   ]
  },
  {
   "cell_type": "code",
   "execution_count": null,
   "id": "2a9dfa90",
   "metadata": {
    "scrolled": true
   },
   "outputs": [],
   "source": []
  },
  {
   "cell_type": "markdown",
   "id": "133cdd3b",
   "metadata": {},
   "source": [
    "### Club Links"
   ]
  },
  {
   "cell_type": "code",
   "execution_count": null,
   "id": "82b641e3",
   "metadata": {
    "scrolled": false
   },
   "outputs": [],
   "source": [
    "logging.info(\"FETCHING CLUB LINKS\")\n",
    "league_urls = table('b2_club')['league_link'].unique()\n",
    "club_links = []\n",
    "\n",
    "for idx, league_url in enumerate(league_urls):\n",
    "        \n",
    "    response = requests.get(league_url, headers=request_headers)\n",
    "    soup = BeautifulSoup(response.content, \"html.parser\")\n",
    "\n",
    "    # Find the table containing the teams\n",
    "    temp = soup.select('table.items tbody tr')\n",
    "    for row in soup.select('table.items tbody tr'):\n",
    "        link_tag = row.select_one('td.hauptlink a')\n",
    "        if link_tag:\n",
    "            club_name = link_tag.text.strip()\n",
    "            relative_link = link_tag['href']\n",
    "            #filter out top scorer links\n",
    "            if r\"profil/spieler\" not in relative_link:\n",
    "                full_link = \"https://www.transfermarkt.com\" + relative_link\n",
    "                club_links.append((league_url, club_name, full_link))\n",
    "            "
   ]
  },
  {
   "cell_type": "code",
   "execution_count": null,
   "id": "71adc164",
   "metadata": {},
   "outputs": [],
   "source": [
    "# deduplicate / filter links\n",
    "club_links_df = pd.DataFrame(club_links, columns = ['league_link', 'club', 'club_link'])\n",
    "club_links_df = club_links_df[club_links_df.club_link.str.contains(\"start\")] "
   ]
  },
  {
   "cell_type": "code",
   "execution_count": null,
   "id": "a4b48af5",
   "metadata": {
    "scrolled": false
   },
   "outputs": [],
   "source": [
    "processor = Historize(\n",
    "    club_links_df,\n",
    "    primary_key = ['league_link', 'club']\n",
    ")\n",
    "\n",
    "processor.run()\n",
    "updates = processor.df\n",
    "updates['last_updated'] = datetime.today()\n",
    "updates = updates.rename({\"ID\": \"club_link_id\"}, axis = 1)\n",
    "selection = ['club_link_id', 'league_link', 'club', 'club_link', 'hash_key', 'effective_start_date', 'effective_end_date', 'last_updated']\n",
    "updates = updates[selection]"
   ]
  },
  {
   "cell_type": "code",
   "execution_count": null,
   "id": "03e146b2",
   "metadata": {},
   "outputs": [],
   "source": [
    "commit_changes(\n",
    "    df = updates, \n",
    "    table_name = 'b3_club_link', \n",
    "    primary_key='club_link_id'\n",
    ")"
   ]
  },
  {
   "cell_type": "markdown",
   "id": "839ee5fd",
   "metadata": {},
   "source": [
    "### Players"
   ]
  },
  {
   "cell_type": "code",
   "execution_count": null,
   "id": "d29515ea",
   "metadata": {},
   "outputs": [],
   "source": [
    "logging.info(\"FETCHING PLAYERS\")\n",
    "club_links = table(\"b3_club_link\")\n",
    "club_links[\"club_link_detailed\"] = club_links['club_link'].apply(lambda x: createDetailedURL(x))\n",
    "urls = club_links.club_link_detailed.unique()\n",
    "\n",
    "start_time = time.time()\n",
    "\n",
    "conn = sqlite3.connect(\"transfermarkt.db\")\n",
    "cursor = conn.cursor()\n",
    "cursor.execute(\"DROP TABLE IF EXISTS b4_player_staging\")\n",
    "conn.commit()\n",
    "conn.close()\n",
    "\n",
    "b4_failures = []\n",
    "for idx, url in enumerate(urls):\n",
    "    \n",
    "    response = polite_request(url)\n",
    "\n",
    "    if not isinstance(response, str):\n",
    "        data = pd.read_html(StringIO(response.text))\n",
    "        players = [i for i in data if 'Contract' in i.columns][0].dropna(subset = \"#\").copy()\n",
    "        players['club_link_detailed'] = url\n",
    "        logging.info(f\"Adding {len(players)} to staging: {url}\")\n",
    "        append_table(players, \"b4_player_staging\")\n",
    "        \n",
    "    else:\n",
    "        b4_failures.append(url)\n",
    "        \n",
    "logging.info(f\"{round((time.time() - start_time)/60)} minutes to process\")\n",
    "\n",
    "if len(b4_failures)>0:\n",
    "    logging.error(f\"b4_player failures: {b4_failures}\")"
   ]
  },
  {
   "cell_type": "code",
   "execution_count": null,
   "id": "8183b5cb",
   "metadata": {
    "scrolled": false
   },
   "outputs": [],
   "source": [
    "for idx, url in enumerate(new_urls):\n",
    "    \n",
    "    response = polite_request(url)\n",
    "\n",
    "    if not isinstance(response, str):\n",
    "        data = pd.read_html(StringIO(response.text))\n",
    "        players = [i for i in data if 'Contract' in i.columns][0].dropna(subset = \"#\").copy()\n",
    "        players['club_link_detailed'] = url\n",
    "        logging.info(f\"Adding {len(players)} to staging: {url}\")\n",
    "        append_table(players, \"b4_player_staging\")\n",
    "        \n",
    "    else:\n",
    "        b4_failures.append(url)\n",
    "        \n",
    "logging.info(f\"{round((time.time() - start_time)/60)} minutes to process\")\n",
    "\n",
    "if len(b4_failures)>0:\n",
    "    logging.error(f\"b4_player failures: {b4_failures}\")"
   ]
  },
  {
   "cell_type": "code",
   "execution_count": null,
   "id": "d2d3a670",
   "metadata": {},
   "outputs": [],
   "source": [
    "#Staging cleaning\n",
    "players = table(\"b4_player_staging\")\n",
    "players = players.dropna(subset = \"#\")\n",
    "mapping = {'#':'number', 'Date of birth/Age':'age'}\n",
    "players = players.rename(mapping, axis = 1)\n",
    "players.columns = [i.lower().strip().replace(\" \", \"_\") for i in players.columns]\n",
    "players = players.drop([\"nat.\", \"signed_from\"], axis = 1)"
   ]
  },
  {
   "cell_type": "code",
   "execution_count": null,
   "id": "ab889e28",
   "metadata": {},
   "outputs": [],
   "source": [
    "player_historizer = Historize(\n",
    "    players,\n",
    "    primary_key = ['player', 'club_link_detailed']\n",
    ")"
   ]
  },
  {
   "cell_type": "code",
   "execution_count": null,
   "id": "e11ab273",
   "metadata": {},
   "outputs": [],
   "source": [
    "player_historizer.run()\n",
    "player_updates = player_historizer.df\n",
    "player_updates = player_updates.rename({\"ID\": \"player_id\"}, axis = 1)\n",
    "player_updates['last_updated'] = datetime.today()"
   ]
  },
  {
   "cell_type": "code",
   "execution_count": null,
   "id": "6112ae13",
   "metadata": {},
   "outputs": [],
   "source": [
    "commit_changes(\n",
    "    df = player_updates, \n",
    "    table_name = 'b4_player', \n",
    "    primary_key='player_id'\n",
    ")"
   ]
  }
 ],
 "metadata": {
  "kernelspec": {
   "display_name": "Python 3 (ipykernel)",
   "language": "python",
   "name": "python3"
  },
  "language_info": {
   "codemirror_mode": {
    "name": "ipython",
    "version": 3
   },
   "file_extension": ".py",
   "mimetype": "text/x-python",
   "name": "python",
   "nbconvert_exporter": "python",
   "pygments_lexer": "ipython3",
   "version": "3.10.4"
  }
 },
 "nbformat": 4,
 "nbformat_minor": 5
}
